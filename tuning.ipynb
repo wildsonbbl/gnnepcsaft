{
 "cells": [
  {
   "cell_type": "markdown",
   "id": "ee26aa18",
   "metadata": {
    "papermill": {
     "duration": 0.003475,
     "end_time": "2025-03-02T20:32:13.656813",
     "exception": false,
     "start_time": "2025-03-02T20:32:13.653338",
     "status": "completed"
    },
    "tags": []
   },
   "source": [
    "# Tuning GNNePCSAFT\n"
   ]
  },
  {
   "cell_type": "markdown",
   "id": "f3670b17",
   "metadata": {},
   "source": [
    "### Load env variables\n"
   ]
  },
  {
   "cell_type": "code",
   "execution_count": null,
   "id": "89753a67",
   "metadata": {},
   "outputs": [],
   "source": [
    "import os\n",
    "\n",
    "os.environ[\"WANDB_API_KEY\"] = \"\"  # Your wandb api key"
   ]
  },
  {
   "cell_type": "markdown",
   "id": "756f2258",
   "metadata": {},
   "source": [
    "### Git clone repo\n"
   ]
  },
  {
   "cell_type": "code",
   "execution_count": null,
   "id": "17e4e186",
   "metadata": {},
   "outputs": [],
   "source": [
    "%%bash\n",
    "\n",
    "# for the cloud \n",
    "ls -a\n",
    "rm -rf .* *\n",
    "git clone --branch dev --single-branch -q https://github.com/wildsonbbl/gnnepcsaft.git ."
   ]
  },
  {
   "cell_type": "markdown",
   "id": "575dbb4e",
   "metadata": {},
   "source": [
    "### Pip install requirements\n"
   ]
  },
  {
   "cell_type": "code",
   "execution_count": null,
   "id": "9260f34e",
   "metadata": {},
   "outputs": [],
   "source": [
    "## !uv pip install -r requirements-torch.txt # if torch not installed\n",
    "!uv pip install --system -r requirements.txt\n",
    "!mkdir gnnepcsaft/train/checkpoints"
   ]
  },
  {
   "cell_type": "markdown",
   "id": "29c90734",
   "metadata": {},
   "source": [
    "### Process dataset\n"
   ]
  },
  {
   "cell_type": "code",
   "execution_count": null,
   "id": "2a63cfda",
   "metadata": {},
   "outputs": [],
   "source": [
    "from gnnepcsaft.data import graphdataset\n",
    "\n",
    "tml = graphdataset.ThermoMLDataset(\"gnnepcsaft/data/thermoml\")\n",
    "esper = graphdataset.Esper(\"gnnepcsaft/data/esper2023\")\n",
    "print(tml, esper)"
   ]
  },
  {
   "cell_type": "markdown",
   "id": "66f8a1b6",
   "metadata": {},
   "source": [
    "### Check pkgs, cpu and gpu\n"
   ]
  },
  {
   "cell_type": "code",
   "execution_count": null,
   "id": "0dd16c9d",
   "metadata": {},
   "outputs": [],
   "source": [
    "%%bash\n",
    "\n",
    "python --version\n",
    "\n",
    "pip show feos | grep -E \"Version|Name\"\n",
    "\n",
    "pip show torch | grep -E \"Version|Name\"\n",
    "\n",
    "lscpu | grep -E \"Model name|Core|core\" \n",
    "\n",
    "nvidia-smi"
   ]
  },
  {
   "cell_type": "markdown",
   "id": "ed364709",
   "metadata": {
    "papermill": {
     "duration": 0.002816,
     "end_time": "2025-03-02T20:32:33.044770",
     "exception": false,
     "start_time": "2025-03-02T20:32:33.041954",
     "status": "completed"
    },
    "tags": []
   },
   "source": [
    "### Tuning run\n"
   ]
  },
  {
   "cell_type": "code",
   "execution_count": null,
   "id": "1728f699",
   "metadata": {
    "execution": {
     "iopub.execute_input": "2025-03-02T20:32:33.051412Z",
     "iopub.status.busy": "2025-03-02T20:32:33.051188Z",
     "iopub.status.idle": "2025-03-03T06:43:49.938279Z",
     "shell.execute_reply": "2025-03-03T06:43:49.937119Z"
    },
    "papermill": {
     "duration": 36676.892475,
     "end_time": "2025-03-03T06:43:49.940244",
     "exception": false,
     "start_time": "2025-03-02T20:32:33.047769",
     "status": "completed"
    },
    "tags": []
   },
   "outputs": [],
   "source": [
    "!python -m gnnepcsaft.train.tuner \\\n",
    " --workdir=$PWD/gnnepcsaft --config=$PWD/gnnepcsaft/configs/default.py \\\n",
    " --tags=\"v1.0\" \\\n",
    " --num_cpu=1.0 --num_gpus=0.25 \\\n",
    " --num_samples=65 --time_budget_s=42_900 --max_concurrent=4 \\\n",
    " --config.job_type=tuning --config.num_train_steps=30_000 --config.eval_every_steps=10_000 "
   ]
  },
  {
   "cell_type": "code",
   "execution_count": null,
   "id": "6a6828e2",
   "metadata": {
    "execution": {
     "iopub.execute_input": "2025-03-03T06:43:49.978038Z",
     "iopub.status.busy": "2025-03-03T06:43:49.977692Z",
     "iopub.status.idle": "2025-03-03T06:43:49.980906Z",
     "shell.execute_reply": "2025-03-03T06:43:49.980220Z"
    },
    "papermill": {
     "duration": 0.023511,
     "end_time": "2025-03-03T06:43:49.982185",
     "exception": false,
     "start_time": "2025-03-03T06:43:49.958674",
     "status": "completed"
    },
    "tags": []
   },
   "outputs": [],
   "source": [
    "# For xgb tuning\n",
    "## !python -m gnnepcsaft.train.xgb_tuner --workdir=$PWD/gnnepcsaft"
   ]
  },
  {
   "cell_type": "markdown",
   "id": "f74f0de4",
   "metadata": {
    "papermill": {
     "duration": 0.017441,
     "end_time": "2025-03-03T06:43:50.017763",
     "exception": false,
     "start_time": "2025-03-03T06:43:50.000322",
     "status": "completed"
    },
    "tags": []
   },
   "source": [
    "### Clean results\n"
   ]
  },
  {
   "cell_type": "code",
   "execution_count": null,
   "id": "ab276881",
   "metadata": {
    "execution": {
     "iopub.execute_input": "2025-03-03T06:43:50.054895Z",
     "iopub.status.busy": "2025-03-03T06:43:50.054577Z",
     "iopub.status.idle": "2025-03-03T06:44:17.957096Z",
     "shell.execute_reply": "2025-03-03T06:44:17.956389Z"
    },
    "papermill": {
     "duration": 27.923332,
     "end_time": "2025-03-03T06:44:17.958643",
     "exception": false,
     "start_time": "2025-03-03T06:43:50.035311",
     "status": "completed"
    },
    "tags": []
   },
   "outputs": [],
   "source": [
    "!rm -rf $PWD/gnnepcsaft/ray*/gnn*/*/check* "
   ]
  }
 ],
 "metadata": {
  "kaggle": {
   "accelerator": "gpu",
   "dataSources": [
    {
     "datasetId": 3440228,
     "sourceId": 10765272,
     "sourceType": "datasetVersion"
    },
    {
     "sourceId": 223018687,
     "sourceType": "kernelVersion"
    }
   ],
   "isGpuEnabled": true,
   "isInternetEnabled": true,
   "language": "python",
   "sourceType": "notebook"
  },
  "kernelspec": {
   "display_name": ".venv",
   "language": "python",
   "name": "python3"
  },
  "language_info": {
   "codemirror_mode": {
    "name": "ipython",
    "version": 3
   },
   "file_extension": ".py",
   "mimetype": "text/x-python",
   "name": "python",
   "nbconvert_exporter": "python",
   "pygments_lexer": "ipython3",
   "version": "3.10.16"
  },
  "papermill": {
   "default_parameters": {},
   "duration": 36727.23165,
   "end_time": "2025-03-03T06:44:18.431631",
   "environment_variables": {},
   "exception": null,
   "input_path": "__notebook__.ipynb",
   "output_path": "__notebook__.ipynb",
   "parameters": {},
   "start_time": "2025-03-02T20:32:11.199981",
   "version": "2.6.0"
  }
 },
 "nbformat": 4,
 "nbformat_minor": 5
}
