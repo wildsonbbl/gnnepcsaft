{
 "cells": [
  {
   "cell_type": "markdown",
   "id": "ee26aa18",
   "metadata": {
    "papermill": {
     "duration": 0.003475,
     "end_time": "2025-03-02T20:32:13.656813",
     "exception": false,
     "start_time": "2025-03-02T20:32:13.653338",
     "status": "completed"
    },
    "tags": []
   },
   "source": [
    "# Tuning GNN-ePC-SAFT\n"
   ]
  },
  {
   "cell_type": "markdown",
   "id": "1e73e365",
   "metadata": {
    "papermill": {
     "duration": 0.002398,
     "end_time": "2025-03-02T20:32:13.662162",
     "exception": false,
     "start_time": "2025-03-02T20:32:13.659764",
     "status": "completed"
    },
    "tags": []
   },
   "source": [
    "### Setup env variables\n"
   ]
  },
  {
   "cell_type": "code",
   "execution_count": null,
   "id": "a2efdb36",
   "metadata": {
    "execution": {
     "iopub.execute_input": "2025-03-02T20:32:13.668288Z",
     "iopub.status.busy": "2025-03-02T20:32:13.668035Z",
     "iopub.status.idle": "2025-03-02T20:32:14.550604Z",
     "shell.execute_reply": "2025-03-02T20:32:14.549731Z"
    },
    "papermill": {
     "duration": 0.887575,
     "end_time": "2025-03-02T20:32:14.552257",
     "exception": false,
     "start_time": "2025-03-02T20:32:13.664682",
     "status": "completed"
    },
    "tags": []
   },
   "outputs": [],
   "source": [
    "import os\n",
    "\n",
    "os.environ[\"WANDB_API_KEY\"] = \"\"  # Your wandb api key"
   ]
  },
  {
   "cell_type": "markdown",
   "id": "d38e7780",
   "metadata": {
    "papermill": {
     "duration": 0.002478,
     "end_time": "2025-03-02T20:32:14.557747",
     "exception": false,
     "start_time": "2025-03-02T20:32:14.555269",
     "status": "completed"
    },
    "tags": []
   },
   "source": [
    "### Git clone repo\n"
   ]
  },
  {
   "cell_type": "code",
   "execution_count": null,
   "id": "cd1b5a27",
   "metadata": {
    "execution": {
     "iopub.execute_input": "2025-03-02T20:32:14.563775Z",
     "iopub.status.busy": "2025-03-02T20:32:14.563477Z",
     "iopub.status.idle": "2025-03-02T20:32:29.575917Z",
     "shell.execute_reply": "2025-03-02T20:32:29.574799Z"
    },
    "papermill": {
     "duration": 15.017107,
     "end_time": "2025-03-02T20:32:29.577437",
     "exception": false,
     "start_time": "2025-03-02T20:32:14.560330",
     "status": "completed"
    },
    "tags": []
   },
   "outputs": [],
   "source": [
    "%%bash\n",
    "\n",
    "# for the cloud \n",
    "\n",
    "rm -rf .* *\n",
    "\n",
    "git clone --branch dev --single-branch -q https://github.com/wildsonbbl/gnnepcsaft.git .\n"
   ]
  },
  {
   "cell_type": "markdown",
   "id": "ae3d88a5",
   "metadata": {
    "papermill": {
     "duration": 0.002677,
     "end_time": "2025-03-02T20:32:29.583134",
     "exception": false,
     "start_time": "2025-03-02T20:32:29.580457",
     "status": "completed"
    },
    "tags": []
   },
   "source": [
    "### Pip install requirements pkgs\n"
   ]
  },
  {
   "cell_type": "code",
   "execution_count": null,
   "id": "9db398e0",
   "metadata": {
    "execution": {
     "iopub.execute_input": "2025-03-02T20:32:29.589383Z",
     "iopub.status.busy": "2025-03-02T20:32:29.589130Z",
     "iopub.status.idle": "2025-03-02T20:32:29.597019Z",
     "shell.execute_reply": "2025-03-02T20:32:29.596204Z"
    },
    "papermill": {
     "duration": 0.012281,
     "end_time": "2025-03-02T20:32:29.598221",
     "exception": false,
     "start_time": "2025-03-02T20:32:29.585940",
     "status": "completed"
    },
    "tags": []
   },
   "outputs": [],
   "source": [
    "%%bash\n",
    "\n",
    "## uv pip install -r requirements-torch.txt # if torch not installed\n",
    "\n",
    "uv pip install -r requirements.txt\n",
    "\n",
    "echo \"*********  Finished pip installing requirements.txt  *********\"\n",
    "\n",
    "mkdir gnnepcsaft/train/checkpoints\n",
    "\n"
   ]
  },
  {
   "cell_type": "markdown",
   "id": "5c2a2ec5",
   "metadata": {
    "papermill": {
     "duration": 0.002648,
     "end_time": "2025-03-02T20:32:30.030116",
     "exception": false,
     "start_time": "2025-03-02T20:32:30.027468",
     "status": "completed"
    },
    "tags": []
   },
   "source": [
    "### Check pcsaft pkg, cpu and gpu available\n"
   ]
  },
  {
   "cell_type": "code",
   "execution_count": null,
   "id": "79360d3c",
   "metadata": {
    "execution": {
     "iopub.execute_input": "2025-03-02T20:32:30.036519Z",
     "iopub.status.busy": "2025-03-02T20:32:30.036312Z",
     "iopub.status.idle": "2025-03-02T20:32:33.037243Z",
     "shell.execute_reply": "2025-03-02T20:32:33.036496Z"
    },
    "papermill": {
     "duration": 3.005687,
     "end_time": "2025-03-02T20:32:33.038670",
     "exception": false,
     "start_time": "2025-03-02T20:32:30.032983",
     "status": "completed"
    },
    "tags": []
   },
   "outputs": [],
   "source": [
    "%%bash\n",
    "\n",
    "python --version\n",
    "\n",
    "pip show feos | grep -E \"Version|Name\"\n",
    "\n",
    "pip show torch | grep -E \"Version|Name\"\n",
    "\n",
    "lscpu | grep -E \"Model name|Core|core\" \n",
    "\n",
    "nvidia-smi"
   ]
  },
  {
   "cell_type": "markdown",
   "id": "ed364709",
   "metadata": {
    "papermill": {
     "duration": 0.002816,
     "end_time": "2025-03-02T20:32:33.044770",
     "exception": false,
     "start_time": "2025-03-02T20:32:33.041954",
     "status": "completed"
    },
    "tags": []
   },
   "source": [
    "### Tuning run\n"
   ]
  },
  {
   "cell_type": "code",
   "execution_count": null,
   "id": "1728f699",
   "metadata": {
    "execution": {
     "iopub.execute_input": "2025-03-02T20:32:33.051412Z",
     "iopub.status.busy": "2025-03-02T20:32:33.051188Z",
     "iopub.status.idle": "2025-03-03T06:43:49.938279Z",
     "shell.execute_reply": "2025-03-03T06:43:49.937119Z"
    },
    "papermill": {
     "duration": 36676.892475,
     "end_time": "2025-03-03T06:43:49.940244",
     "exception": false,
     "start_time": "2025-03-02T20:32:33.047769",
     "status": "completed"
    },
    "tags": []
   },
   "outputs": [],
   "source": [
    "!python -m gnnepcsaft.train.tuner \\\n",
    " --workdir=$PWD/gnnepcsaft --config=$PWD/gnnepcsaft/configs/default.py \\\n",
    " --tags=\"v1.0\",\"GNNePCSAFT class\",\"huber with ape\",\"train_val\",\"global_pool add\" \\\n",
    " --num_cpu=1.0 --num_gpus=0.33 \\\n",
    " --num_samples=20 --time_budget_s=43000 --max_concurrent=3 \\\n",
    " --config.job_type=tuning --config.num_train_steps=25000 --config.eval_every_steps=5000 "
   ]
  },
  {
   "cell_type": "code",
   "execution_count": null,
   "id": "6a6828e2",
   "metadata": {
    "execution": {
     "iopub.execute_input": "2025-03-03T06:43:49.978038Z",
     "iopub.status.busy": "2025-03-03T06:43:49.977692Z",
     "iopub.status.idle": "2025-03-03T06:43:49.980906Z",
     "shell.execute_reply": "2025-03-03T06:43:49.980220Z"
    },
    "papermill": {
     "duration": 0.023511,
     "end_time": "2025-03-03T06:43:49.982185",
     "exception": false,
     "start_time": "2025-03-03T06:43:49.958674",
     "status": "completed"
    },
    "tags": []
   },
   "outputs": [],
   "source": [
    "# For xgb tuning\n",
    "## !python -m gnnepcsaft.train.xgb_tuner --workdir=$PWD/gnnepcsaft"
   ]
  },
  {
   "cell_type": "markdown",
   "id": "f74f0de4",
   "metadata": {
    "papermill": {
     "duration": 0.017441,
     "end_time": "2025-03-03T06:43:50.017763",
     "exception": false,
     "start_time": "2025-03-03T06:43:50.000322",
     "status": "completed"
    },
    "tags": []
   },
   "source": [
    "### Zip results\n"
   ]
  },
  {
   "cell_type": "code",
   "execution_count": null,
   "id": "ab276881",
   "metadata": {
    "execution": {
     "iopub.execute_input": "2025-03-03T06:43:50.054895Z",
     "iopub.status.busy": "2025-03-03T06:43:50.054577Z",
     "iopub.status.idle": "2025-03-03T06:44:17.957096Z",
     "shell.execute_reply": "2025-03-03T06:44:17.956389Z"
    },
    "papermill": {
     "duration": 27.923332,
     "end_time": "2025-03-03T06:44:17.958643",
     "exception": false,
     "start_time": "2025-03-03T06:43:50.035311",
     "status": "completed"
    },
    "tags": []
   },
   "outputs": [],
   "source": [
    "%%bash\n",
    "# rm -rf ~/ray*/gnn*/Torch*/check* ~/ray*/gnn*/Torch*/wandb \n",
    "zip -r tuning.zip ~/ray* -q"
   ]
  }
 ],
 "metadata": {
  "kaggle": {
   "accelerator": "gpu",
   "dataSources": [
    {
     "datasetId": 3440228,
     "sourceId": 10765272,
     "sourceType": "datasetVersion"
    },
    {
     "sourceId": 223018687,
     "sourceType": "kernelVersion"
    }
   ],
   "isGpuEnabled": true,
   "isInternetEnabled": true,
   "language": "python",
   "sourceType": "notebook"
  },
  "kernelspec": {
   "display_name": ".venv",
   "language": "python",
   "name": "python3"
  },
  "language_info": {
   "codemirror_mode": {
    "name": "ipython",
    "version": 3
   },
   "file_extension": ".py",
   "mimetype": "text/x-python",
   "name": "python",
   "nbconvert_exporter": "python",
   "pygments_lexer": "ipython3",
   "version": "3.10.16"
  },
  "papermill": {
   "default_parameters": {},
   "duration": 36727.23165,
   "end_time": "2025-03-03T06:44:18.431631",
   "environment_variables": {},
   "exception": null,
   "input_path": "__notebook__.ipynb",
   "output_path": "__notebook__.ipynb",
   "parameters": {},
   "start_time": "2025-03-02T20:32:11.199981",
   "version": "2.6.0"
  }
 },
 "nbformat": 4,
 "nbformat_minor": 5
}
