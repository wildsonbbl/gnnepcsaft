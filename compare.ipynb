{
 "cells": [
  {
   "cell_type": "markdown",
   "id": "5df6e7a1",
   "metadata": {
    "notebookRunGroups": {
     "groupValue": ""
    }
   },
   "source": [
    "## Load libraries and model\n"
   ]
  },
  {
   "cell_type": "markdown",
   "id": "da7e6b30",
   "metadata": {},
   "source": [
    "Firt step: Load libraries"
   ]
  },
  {
   "cell_type": "code",
   "execution_count": 1,
   "metadata": {},
   "outputs": [
    {
     "data": {
      "text/plain": [
       "False"
      ]
     },
     "execution_count": 1,
     "metadata": {},
     "output_type": "execute_result"
    }
   ],
   "source": [
    "import os.path as osp, os\n",
    "\n",
    "os.environ[\"CUDA_VISIBLE_DEVICES\"] = \"\"\n",
    "import torch, polars as pl\n",
    "from gnnepcsaft.data.graphdataset import ThermoMLDataset, Ramirez, Esper\n",
    "from gnnepcsaft.train.utils import create_model\n",
    "from gnnepcsaft.train.utils import calc_deg, LogAssoc, TransformParameters\n",
    "from gnnepcsaft.train.models import PNApcsaftL\n",
    "from gnnepcsaft.data.graph import from_InChI, assoc_number\n",
    "from gnnepcsaft.configs.default import get_config\n",
    "from gnnepcsaft.epcsaft.utils import pure_den_feos, parameters_gc_pcsaft\n",
    "import pickle, numpy as np\n",
    "from rdkit import Chem\n",
    "from gnnepcsaft.demo.utils import plotdata, loadckp, model_para_fn, datacsv, plotparams, rhovp_data\n",
    "from feos.eos import EquationOfState, PhaseEquilibrium, State\n",
    "from feos.pcsaft import PcSaftParameters, PcSaftRecord\n",
    "from si_units import KELVIN, METER, MOL, PASCAL\n",
    "\n",
    "torch.cuda.is_available()"
   ]
  },
  {
   "cell_type": "markdown",
   "id": "6d0045c0",
   "metadata": {},
   "source": [
    "Second step: Load data"
   ]
  },
  {
   "cell_type": "code",
   "execution_count": 2,
   "id": "8831af59",
   "metadata": {},
   "outputs": [],
   "source": [
    "ra_loader = Ramirez(\"gnnepcsaft/data/ramirez2022\")\n",
    "ra_para = {}\n",
    "for graph in ra_loader:\n",
    "    inchi, para = graph.InChI, graph.para.view(-1, 3).round(decimals=2)\n",
    "    ra_para[inchi] = para.tolist()[0]\n",
    "es_loader = Esper(\"gnnepcsaft/data/esper2023\")\n",
    "es_para = {}\n",
    "for graph in es_loader:\n",
    "    inchi, para = graph.InChI, graph\n",
    "    es_para[inchi] = para\n",
    "testloader = ThermoMLDataset(\"gnnepcsaft/data/thermoml\")\n",
    "tml_dict = {}\n",
    "for graph in testloader:\n",
    "    tml_dict[graph.InChI] = graph\n",
    "device = torch.device(\"cpu\")"
   ]
  },
  {
   "cell_type": "code",
   "execution_count": null,
   "id": "51f4e379",
   "metadata": {},
   "outputs": [],
   "source": [
    "count = 0\n",
    "for graph in es_loader:\n",
    "  inchi = graph.InChI\n",
    "  nanb = torch.tensor(assoc_number(inchi))\n",
    "  es_nanb = graph.munanb[1:]\n",
    "  if all(es_nanb>0):\n",
    "    count += 1\n",
    "    print(nanb, es_nanb, inchi)\n",
    "print(count)"
   ]
  },
  {
   "cell_type": "markdown",
   "id": "6835463e",
   "metadata": {},
   "source": [
    "Third Step: Define and load models"
   ]
  },
  {
   "cell_type": "code",
   "execution_count": 2,
   "metadata": {},
   "outputs": [],
   "source": [
    "model1 = PNApcsaftL.load_from_checkpoint(\"gnnepcsaft/train/checkpoints/esper_msigmae_5.2-epoch=72499-train_mape=0.0121.ckpt\", 'cpu')\n",
    "model2 = PNApcsaftL.load_from_checkpoint(\"gnnepcsaft/train/checkpoints/esper_msigmae_5.1-epoch=58749-train_mape=0.0073.ckpt\")\n",
    "model3 = PNApcsaftL.load_from_checkpoint(\"gnnepcsaft/train/checkpoints/esper_assoc_7-epoch=99999-train_mape=0.0059.ckpt\")\n",
    "model4 = PNApcsaftL.load_from_checkpoint(\"gnnepcsaft/train/checkpoints/esper_assoc_7.1-epoch=99999-train_mape=0.0098.ckpt\")"
   ]
  },
  {
   "cell_type": "markdown",
   "id": "b96bd541",
   "metadata": {
    "notebookRunGroups": {
     "groupValue": ""
    }
   },
   "source": [
    "## Evaluations\n"
   ]
  },
  {
   "cell_type": "markdown",
   "id": "402dedc8",
   "metadata": {},
   "source": [
    "Run model testing on data"
   ]
  },
  {
   "cell_type": "code",
   "execution_count": null,
   "id": "cbc00a5e-1816-4bbf-9a89-e677905831d1",
   "metadata": {},
   "outputs": [],
   "source": [
    "model1_para, model1_array = model_para_fn(model3.model, model1.model.eval())\n",
    "model2_para, model2_array = model_para_fn(model3.model, model2.model.eval())"
   ]
  },
  {
   "cell_type": "code",
   "execution_count": 9,
   "id": "d4082326",
   "metadata": {},
   "outputs": [],
   "source": [
    "for inchi in model1_para:\n",
    "    if np.isnan(model2_para[inchi][2]) and inchi in es_para:\n",
    "        print(\n",
    "            model1_para[inchi][1:],\n",
    "            model1_para[inchi][0],\n",
    "            es_para[inchi].para.tolist(),\n",
    "            inchi,\n",
    "            sep=\"\\n\",\n",
    "        )\n",
    "        print(\"\")"
   ]
  },
  {
   "cell_type": "markdown",
   "id": "1c6a9379",
   "metadata": {},
   "source": [
    "Save test results to csv file"
   ]
  },
  {
   "cell_type": "code",
   "execution_count": 10,
   "id": "501020ce",
   "metadata": {},
   "outputs": [],
   "source": [
    "data2 = datacsv(model2_para)\n",
    "data1 = datacsv(model1_para)\n",
    "model1data = pl.DataFrame(data1)\n",
    "model2data = pl.DataFrame(data2)\n",
    "model1data.write_csv(\"../model1.csv\")\n",
    "model2data.write_csv(\"../model2.csv\")"
   ]
  },
  {
   "cell_type": "markdown",
   "id": "2b6891dd",
   "metadata": {
    "notebookRunGroups": {
     "groupValue": ""
    }
   },
   "source": [
    "## plotting\n"
   ]
  },
  {
   "cell_type": "code",
   "execution_count": null,
   "metadata": {},
   "outputs": [],
   "source": [
    "inchi = input(\"InChI: \")\n",
    "molecule_name = \"UNKNOWN\"\n",
    "plotdata(inchi, molecule_name, [model3.model.eval(), model2.model.eval()], model1.model.eval())"
   ]
  },
  {
   "cell_type": "code",
   "execution_count": null,
   "id": "8c772cda",
   "metadata": {},
   "outputs": [],
   "source": [
    "mol = Chem.MolFromInchi(inchi, removeHs=False, sanitize=True)\n",
    "n_pyrimidine = len(mol.GetSubstructMatches(Chem.MolFromSmiles(\"O\")))\n",
    "print(Chem.MolToSmiles(mol, isomericSmiles=True))\n",
    "\n",
    "mol"
   ]
  },
  {
   "cell_type": "code",
   "execution_count": null,
   "id": "bc06952b",
   "metadata": {},
   "outputs": [],
   "source": [
    "PcSaftParameters.from_json_smiles(\n",
    "  [Chem.MolToSmiles(mol, isomericSmiles=False)],\n",
    "  \"./gnnepcsaft/data/gc_pcsaft/sauer2014_smarts.json\",\n",
    "  \"./gnnepcsaft/data/gc_pcsaft/sauer2014_homo.json\"\n",
    ")"
   ]
  },
  {
   "cell_type": "code",
   "execution_count": 14,
   "id": "7b632872",
   "metadata": {},
   "outputs": [],
   "source": [
    "\n",
    "smiles = [\"C\" * i + \"(=O)OCC\" for i in range(1, 100)]"
   ]
  },
  {
   "cell_type": "code",
   "execution_count": 16,
   "id": "b65facc5",
   "metadata": {},
   "outputs": [],
   "source": [
    "smiles = [\"C\" * i for i in range(1, 100)]"
   ]
  },
  {
   "cell_type": "code",
   "execution_count": 18,
   "id": "348e617d",
   "metadata": {},
   "outputs": [],
   "source": [
    "smiles = [\"C\" * i + \"O\" for i in range(1, 100)]"
   ]
  },
  {
   "cell_type": "code",
   "execution_count": null,
   "id": "6648c624",
   "metadata": {},
   "outputs": [],
   "source": [
    "plotparams(smiles, [model1, model2], \"UNKNOWN\")"
   ]
  },
  {
   "cell_type": "code",
   "execution_count": null,
   "id": "274c0f45",
   "metadata": {},
   "outputs": [],
   "source": [
    "test_inchis = []\n",
    "for gh in testloader:\n",
    "    test_inchis.append(gh.InChI)\n",
    "inchis = []\n",
    "for smile in smiles:\n",
    "    mol = Chem.MolFromSmiles(smile)\n",
    "    inchi = Chem.MolToInchi(mol)\n",
    "    if inchi in test_inchis:\n",
    "        inchis.append(inchi)"
   ]
  },
  {
   "cell_type": "code",
   "execution_count": null,
   "id": "d080dc69",
   "metadata": {},
   "outputs": [],
   "source": [
    "inchis"
   ]
  }
 ],
 "metadata": {
  "kernelspec": {
   "display_name": "Python 3",
   "language": "python",
   "name": "python3"
  },
  "language_info": {
   "codemirror_mode": {
    "name": "ipython",
    "version": 3
   },
   "file_extension": ".py",
   "mimetype": "text/x-python",
   "name": "python",
   "nbconvert_exporter": "python",
   "pygments_lexer": "ipython3",
   "version": "3.9.18"
  }
 },
 "nbformat": 4,
 "nbformat_minor": 5
}
