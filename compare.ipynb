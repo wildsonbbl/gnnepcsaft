{
 "cells": [
  {
   "cell_type": "markdown",
   "id": "5df6e7a1",
   "metadata": {
    "notebookRunGroups": {
     "groupValue": ""
    }
   },
   "source": [
    "## Load libraries and model\n"
   ]
  },
  {
   "cell_type": "markdown",
   "id": "da7e6b30",
   "metadata": {},
   "source": [
    "Firt step: Load libraries\n"
   ]
  },
  {
   "cell_type": "code",
   "execution_count": null,
   "metadata": {},
   "outputs": [],
   "source": [
    "import torch\n",
    "from gnnepcsaft.train.utils import build_train_dataset, build_test_dataset\n",
    "from gnnepcsaft.train.models import GNNePCSAFTL\n",
    "from torch_geometric.loader import DataLoader\n",
    "from rdkit import Chem\n",
    "from gnnepcsaft.demo.utils import (\n",
    "    plotdata,\n",
    "    plotparams,\n",
    ")\n",
    "\n",
    "torch.cuda.is_available()"
   ]
  },
  {
   "cell_type": "markdown",
   "id": "6d0045c0",
   "metadata": {},
   "source": [
    "Second step: Load data\n"
   ]
  },
  {
   "cell_type": "code",
   "execution_count": null,
   "id": "8831af59",
   "metadata": {},
   "outputs": [],
   "source": [
    "es = build_train_dataset(\"gnnepcsaft\", \"esper\")\n",
    "tml_val, tml_train, tml_assoc = build_test_dataset(\"gnnepcsaft\", es)\n",
    "es_loader = DataLoader(es, batch_size=512, shuffle=True)\n",
    "tml_loader = DataLoader(tml_train, batch_size=len(tml_train), shuffle=False)\n",
    "\n",
    "\n",
    "\n",
    "device = torch.device(\"cpu\")"
   ]
  },
  {
   "cell_type": "markdown",
   "id": "6835463e",
   "metadata": {},
   "source": [
    "Third Step: Define and load models\n",
    "\n",
    "- You can get one checkpoint from [Hugging Face](https://huggingface.co/wildsonbbl/gnnepcsaft).\n"
   ]
  },
  {
   "cell_type": "code",
   "execution_count": null,
   "metadata": {},
   "outputs": [],
   "source": [
    "model = GNNePCSAFTL.load_from_checkpoint(\n",
    "    \"gnnepcsaft/train/checkpoints/esper_msigmae_5.6.ckpt\",\n",
    "    \"cpu\",\n",
    ")\n",
    "model.eval()"
   ]
  },
  {
   "cell_type": "markdown",
   "id": "2b6891dd",
   "metadata": {
    "notebookRunGroups": {
     "groupValue": ""
    }
   },
   "source": [
    "## plotting\n"
   ]
  },
  {
   "cell_type": "code",
   "execution_count": null,
   "metadata": {},
   "outputs": [],
   "source": [
    "inchi = input(\"InChI: \") # InChI=1S/C2H4O/c1-2-3/h2H,1H3\n",
    "molecule_name = \"UNKNOWN\"\n",
    "plotdata(\n",
    "    inchi,\n",
    "    molecule_name,\n",
    "    [model.model],\n",
    "    model.model,\n",
    ")"
   ]
  },
  {
   "cell_type": "code",
   "execution_count": null,
   "id": "8c772cda",
   "metadata": {},
   "outputs": [],
   "source": [
    "mol = Chem.MolFromInchi(inchi, removeHs=False, sanitize=True)\n",
    "n_pyrimidine = len(mol.GetSubstructMatches(Chem.MolFromSmiles(\"O\")))\n",
    "print(Chem.MolToSmiles(mol, isomericSmiles=True))\n",
    "\n",
    "mol"
   ]
  },
  {
   "cell_type": "code",
   "execution_count": null,
   "id": "7b632872",
   "metadata": {},
   "outputs": [],
   "source": [
    "smiles = [\"C\" * i + \"(=O)OCC\" for i in range(1, 50)]\n",
    "plotparams(smiles, [model.model], r\"$C_n(=O)OCC$\")"
   ]
  },
  {
   "cell_type": "code",
   "execution_count": null,
   "id": "b65facc5",
   "metadata": {},
   "outputs": [],
   "source": [
    "smiles = [\"C\" * i for i in range(1, 50)]\n",
    "plotparams(smiles, [model.model], r\"$C_n$\")"
   ]
  },
  {
   "cell_type": "code",
   "execution_count": null,
   "id": "348e617d",
   "metadata": {},
   "outputs": [],
   "source": [
    "smiles = [\"C\" * i + \"O\" for i in range(1, 50)]\n",
    "plotparams(smiles, [model.model], r\"$C_nO$\")"
   ]
  }
 ],
 "metadata": {
  "kernelspec": {
   "display_name": ".venv",
   "language": "python",
   "name": "python3"
  },
  "language_info": {
   "codemirror_mode": {
    "name": "ipython",
    "version": 3
   },
   "file_extension": ".py",
   "mimetype": "text/x-python",
   "name": "python",
   "nbconvert_exporter": "python",
   "pygments_lexer": "ipython3",
   "version": "3.10.16"
  }
 },
 "nbformat": 4,
 "nbformat_minor": 5
}
