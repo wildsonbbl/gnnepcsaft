{
 "cells": [
  {
   "cell_type": "markdown",
   "id": "5df6e7a1",
   "metadata": {
    "notebookRunGroups": {
     "groupValue": ""
    }
   },
   "source": [
    "## Load libraries and model\n"
   ]
  },
  {
   "cell_type": "markdown",
   "id": "da7e6b30",
   "metadata": {},
   "source": [
    "Firt step: Load libraries\n"
   ]
  },
  {
   "cell_type": "code",
   "execution_count": null,
   "metadata": {},
   "outputs": [],
   "source": [
    "import torch, polars as pl\n",
    "from gnnepcsaft.train.utils import build_train_dataset, build_test_dataset, calc_deg\n",
    "from gnnepcsaft.configs.default import get_config\n",
    "from gnnepcsaft.train.models import GNNePCSAFTL, create_model\n",
    "import numpy as np\n",
    "from torch_geometric.loader import DataLoader\n",
    "from rdkit import Chem\n",
    "from gnnepcsaft.demo.utils import (\n",
    "    plotdata,\n",
    "    model_para_fn,\n",
    "    datacsv,\n",
    "    plotparams,\n",
    "    save_exported_program,\n",
    ")\n",
    "\n",
    "torch.cuda.is_available()"
   ]
  },
  {
   "cell_type": "markdown",
   "id": "6d0045c0",
   "metadata": {},
   "source": [
    "Second step: Load data\n"
   ]
  },
  {
   "cell_type": "code",
   "execution_count": null,
   "id": "8831af59",
   "metadata": {},
   "outputs": [],
   "source": [
    "es = build_train_dataset(\"gnnepcsaft\", \"esper\")\n",
    "tml_val, tml_train, tml_assoc = build_test_dataset(\"gnnepcsaft\", es)\n",
    "es_loader = DataLoader(es, batch_size=512, shuffle=True)\n",
    "tml_loader = DataLoader(tml_train, batch_size=len(tml_train), shuffle=False)\n",
    "\n",
    "\n",
    "device = torch.device(\"cpu\")"
   ]
  },
  {
   "cell_type": "markdown",
   "id": "6835463e",
   "metadata": {},
   "source": [
    "Third Step: Define and load models\n"
   ]
  },
  {
   "cell_type": "code",
   "execution_count": null,
   "metadata": {},
   "outputs": [],
   "source": [
    "model = GNNePCSAFTL.load_from_checkpoint(\n",
    "    \"gnnepcsaft/train/checkpoints/esper_msigmae_5.4-epoch=49999-train_mape=0.0046.ckpt\",\n",
    "    \"cpu\",\n",
    ")\n",
    "model.eval()"
   ]
  },
  {
   "cell_type": "markdown",
   "id": "b96bd541",
   "metadata": {
    "notebookRunGroups": {
     "groupValue": ""
    }
   },
   "source": [
    "## Evaluations\n"
   ]
  },
  {
   "cell_type": "markdown",
   "id": "402dedc8",
   "metadata": {},
   "source": [
    "Run model testing on data\n"
   ]
  },
  {
   "cell_type": "code",
   "execution_count": null,
   "id": "cbc00a5e-1816-4bbf-9a89-e677905831d1",
   "metadata": {},
   "outputs": [],
   "source": [
    "model1_para, model1_array = model_para_fn(model3.model, model1.model.eval())\n",
    "model2_para, model2_array = model_para_fn(model3.model, model2.model.eval())"
   ]
  },
  {
   "cell_type": "markdown",
   "id": "1c6a9379",
   "metadata": {},
   "source": [
    "Save test results to csv file\n"
   ]
  },
  {
   "cell_type": "code",
   "execution_count": null,
   "id": "501020ce",
   "metadata": {},
   "outputs": [],
   "source": [
    "data2 = datacsv(model2_para)\n",
    "data1 = datacsv(model1_para)\n",
    "model1data = pl.DataFrame(data1)\n",
    "model2data = pl.DataFrame(data2)\n",
    "model1data.write_csv(\"../model1.csv\")\n",
    "model2data.write_csv(\"../model2.csv\")"
   ]
  },
  {
   "cell_type": "markdown",
   "id": "2b6891dd",
   "metadata": {
    "notebookRunGroups": {
     "groupValue": ""
    }
   },
   "source": [
    "## plotting\n"
   ]
  },
  {
   "cell_type": "code",
   "execution_count": null,
   "metadata": {},
   "outputs": [],
   "source": [
    "inchi = input(\"InChI: \")\n",
    "molecule_name = \"UNKNOWN\"\n",
    "plotdata(\n",
    "    inchi,\n",
    "    molecule_name,\n",
    "    [model.model],\n",
    "    model.model,\n",
    ")"
   ]
  },
  {
   "cell_type": "code",
   "execution_count": null,
   "id": "8c772cda",
   "metadata": {},
   "outputs": [],
   "source": [
    "mol = Chem.MolFromInchi(inchi, removeHs=False, sanitize=True)\n",
    "n_pyrimidine = len(mol.GetSubstructMatches(Chem.MolFromSmiles(\"O\")))\n",
    "print(Chem.MolToSmiles(mol, isomericSmiles=True))\n",
    "\n",
    "mol"
   ]
  },
  {
   "cell_type": "code",
   "execution_count": null,
   "id": "7b632872",
   "metadata": {},
   "outputs": [],
   "source": [
    "smiles = [\"C\" * i + \"(=O)OCC\" for i in range(1, 100)]"
   ]
  },
  {
   "cell_type": "code",
   "execution_count": null,
   "id": "b65facc5",
   "metadata": {},
   "outputs": [],
   "source": [
    "smiles = [\"C\" * i for i in range(1, 100)]"
   ]
  },
  {
   "cell_type": "code",
   "execution_count": null,
   "id": "348e617d",
   "metadata": {},
   "outputs": [],
   "source": [
    "smiles = [\"C\" * i + \"O\" for i in range(1, 100)]"
   ]
  },
  {
   "cell_type": "code",
   "execution_count": null,
   "id": "6648c624",
   "metadata": {},
   "outputs": [],
   "source": [
    "plotparams(smiles, [model.model], \"UNKNOWN\")"
   ]
  },
  {
   "cell_type": "code",
   "execution_count": null,
   "id": "274c0f45",
   "metadata": {},
   "outputs": [],
   "source": [
    "test_inchis = []\n",
    "for gh in tml_assoc:\n",
    "    test_inchis.append(gh.InChI)\n",
    "inchis = []\n",
    "for smile in smiles:\n",
    "    mol = Chem.MolFromSmiles(smile)\n",
    "    inchi = Chem.MolToInchi(mol)\n",
    "    if inchi in test_inchis:\n",
    "        inchis.append(inchi)"
   ]
  },
  {
   "cell_type": "code",
   "execution_count": null,
   "id": "d080dc69",
   "metadata": {},
   "outputs": [],
   "source": [
    "inchis"
   ]
  }
 ],
 "metadata": {
  "kernelspec": {
   "display_name": ".venv",
   "language": "python",
   "name": "python3"
  },
  "language_info": {
   "codemirror_mode": {
    "name": "ipython",
    "version": 3
   },
   "file_extension": ".py",
   "mimetype": "text/x-python",
   "name": "python",
   "nbconvert_exporter": "python",
   "pygments_lexer": "ipython3",
   "version": "3.10.16"
  }
 },
 "nbformat": 4,
 "nbformat_minor": 5
}
