{
 "cells": [
  {
   "cell_type": "markdown",
   "metadata": {
    "papermill": {
     "duration": 0.004538,
     "end_time": "2024-05-19T01:18:09.506964",
     "exception": false,
     "start_time": "2024-05-19T01:18:09.502426",
     "status": "completed"
    },
    "tags": []
   },
   "source": [
    "# Modeling GNNePCSAFT\n"
   ]
  },
  {
   "cell_type": "markdown",
   "metadata": {
    "papermill": {
     "duration": 0.003714,
     "end_time": "2024-05-19T01:18:09.514947",
     "exception": false,
     "start_time": "2024-05-19T01:18:09.511233",
     "status": "completed"
    },
    "tags": []
   },
   "source": [
    "## Starting point\n"
   ]
  },
  {
   "cell_type": "code",
   "execution_count": null,
   "metadata": {
    "papermill": {
     "duration": 1.177025,
     "end_time": "2024-05-19T01:18:10.695854",
     "exception": false,
     "start_time": "2024-05-19T01:18:09.518829",
     "status": "completed"
    },
    "tags": [],
    "trusted": true
   },
   "outputs": [],
   "source": [
    "import os, shutil\n",
    "\n",
    "from kaggle_secrets import UserSecretsClient\n",
    "\n",
    "user_secrets = UserSecretsClient()\n",
    "secret_value_1 = user_secrets.get_secret(\"kaggle\") #Your kaggle secret key\n",
    "secret_value_2 = user_secrets.get_secret(\"username\") #Your kaggle username\n",
    "secret_value_3 = user_secrets.get_secret(\"wandbkey\") #Your wandb api key\n",
    "\n",
    "\n",
    "os.environ[\"KAGGLE_USERNAME\"] = secret_value_2\n",
    "\n",
    "os.environ[\"KAGGLE_KEY\"] = secret_value_1\n",
    "\n",
    "os.environ[\"WANDB_API_KEY\"] = secret_value_3\n",
    "\n",
    "\n",
    "os.environ[\"PATH\"] = \"/root/.local/bin:\" + os.environ[\"PATH\"]"
   ]
  },
  {
   "cell_type": "code",
   "execution_count": null,
   "metadata": {
    "papermill": {
     "duration": 17.279595,
     "end_time": "2024-05-19T01:19:10.019692",
     "exception": false,
     "start_time": "2024-05-19T01:18:52.740097",
     "status": "completed"
    },
    "tags": [],
    "trusted": true
   },
   "outputs": [],
   "source": [
    "%%bash\n",
    "\n",
    "# for the cloud \n",
    "\n",
    "rm -rf .* *\n",
    "git clone --branch dev --single-branch -q https://github.com/wildsonbbl/gnnepcsaft.git .\n",
    "\n"
   ]
  },
  {
   "cell_type": "code",
   "execution_count": null,
   "metadata": {
    "papermill": {
     "duration": 1230.943651,
     "end_time": "2024-05-19T01:39:40.967890",
     "exception": false,
     "start_time": "2024-05-19T01:19:10.024239",
     "status": "completed"
    },
    "tags": [],
    "trusted": true
   },
   "outputs": [],
   "source": [
    "%%capture req_output\n",
    "\n",
    "%%bash\n",
    "\n",
    "pip install -r requirements.txt\n",
    "\n",
    "echo \"*********  Finished pip installing requirements.txt  *********\"\n",
    "\n",
    "# pip install torch-scatter\n",
    "\n",
    "echo \"*********  Finished pip installing torch-scatter  *********\"\n",
    "\n",
    "\n",
    "\n",
    "# install pcsaft\n",
    "\n",
    "curl -O -L https://gitlab.com/libeigen/eigen/-/archive/master/eigen-master.zip\n",
    "curl -O -L https://github.com/zmeri/PC-SAFT/archive/refs/tags/v1.5.0.zip\n",
    "unzip -q eigen-master.zip\n",
    "unzip -q v1.5.0.zip\n",
    "sed -i \"s/np.float_/np.float64/g\" PC-SAFT-1.5.0/pcsaft.pyx \n",
    "cp -rf eigen-master/. PC-SAFT-1.5.0/externals/eigen\n",
    "pip install ./PC-SAFT-1.5.0\n",
    "\n",
    "# install pcsaft\n",
    "\n",
    "echo \"*********  Finished pip installing pcsaft  *********\"\n"
   ]
  },
  {
   "cell_type": "code",
   "execution_count": null,
   "metadata": {
    "papermill": {
     "duration": 0.023362,
     "end_time": "2024-05-19T01:39:41.002288",
     "exception": false,
     "start_time": "2024-05-19T01:39:40.978926",
     "status": "completed"
    },
    "tags": [],
    "trusted": true
   },
   "outputs": [],
   "source": [
    "!echo '{req_output}' > log.txt"
   ]
  },
  {
   "cell_type": "code",
   "execution_count": null,
   "metadata": {
    "trusted": true
   },
   "outputs": [],
   "source": [
    "cp -r /kaggle/input/gnnepcsaft/* gnnepcsaft/data"
   ]
  },
  {
   "cell_type": "code",
   "execution_count": null,
   "metadata": {
    "papermill": {
     "duration": 5.244509,
     "end_time": "2024-05-19T01:40:10.905816",
     "exception": false,
     "start_time": "2024-05-19T01:40:05.661307",
     "status": "completed"
    },
    "tags": [],
    "trusted": true
   },
   "outputs": [],
   "source": [
    "%%bash\n",
    "\n",
    "pip show pcsaft | grep -E \"Version|Name\"\n",
    "\n",
    "\n",
    "\n",
    "lscpu | grep -E \"Model name|Core|core\" \n",
    "\n",
    "\n",
    "\n",
    "nvidia-smi"
   ]
  },
  {
   "cell_type": "markdown",
   "metadata": {
    "papermill": {
     "duration": 0.012935,
     "end_time": "2024-05-19T01:40:10.932566",
     "exception": false,
     "start_time": "2024-05-19T01:40:10.919631",
     "status": "completed"
    },
    "tags": []
   },
   "source": [
    "## Training\n"
   ]
  },
  {
   "cell_type": "code",
   "execution_count": null,
   "metadata": {
    "papermill": {
     "duration": null,
     "end_time": null,
     "exception": false,
     "start_time": "2024-05-19T01:40:11.095657",
     "status": "running"
    },
    "tags": [],
    "trusted": true
   },
   "outputs": [],
   "source": [
    "%%bash\n",
    "\n",
    "python -m gnnepcsaft.train.train \\\n",
    "--workdir=./gnnepcsaft --config=gnnepcsaft/configs/default.py \\\n",
    "--framework=\"lightning\"  \\\n",
    "--tags=\"parallel\" --num_cpu=1.0 --num_cpu_trainer=0.33 --num_gpus=0.33 --num_workers=3 --verbose=2 \\\n",
    "--config.accelerator=gpu\n"
   ]
  },
  {
   "cell_type": "code",
   "execution_count": null,
   "metadata": {
    "papermill": {
     "duration": null,
     "end_time": null,
     "exception": null,
     "start_time": null,
     "status": "pending"
    },
    "tags": [],
    "trusted": true
   },
   "outputs": [],
   "source": [
    "%%bash\n",
    "\n",
    "echo \"*****  Finished training  *****\""
   ]
  }
 ],
 "metadata": {
  "kaggle": {
   "accelerator": "gpu",
   "dataSources": [
    {
     "datasetId": 3440228,
     "sourceId": 10132990,
     "sourceType": "datasetVersion"
    }
   ],
   "isGpuEnabled": true,
   "isInternetEnabled": true,
   "language": "python",
   "sourceType": "notebook"
  },
  "kernelspec": {
   "display_name": "Python 3",
   "language": "python",
   "name": "python3"
  },
  "language_info": {
   "codemirror_mode": {
    "name": "ipython",
    "version": 3
   },
   "file_extension": ".py",
   "mimetype": "text/x-python",
   "name": "python",
   "nbconvert_exporter": "python",
   "pygments_lexer": "ipython3",
   "version": "3.9.18"
  },
  "papermill": {
   "default_parameters": {},
   "duration": null,
   "end_time": null,
   "environment_variables": {},
   "exception": null,
   "input_path": "__notebook__.ipynb",
   "output_path": "__notebook__.ipynb",
   "parameters": {},
   "start_time": "2024-05-19T01:18:06.709559",
   "version": "2.5.0"
  }
 },
 "nbformat": 4,
 "nbformat_minor": 4
}
