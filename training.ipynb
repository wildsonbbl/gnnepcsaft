{
 "cells": [
  {
   "cell_type": "markdown",
   "id": "09ddc7a8",
   "metadata": {
    "papermill": {
     "duration": 0.003319,
     "end_time": "2025-03-02T15:29:53.431191",
     "exception": false,
     "start_time": "2025-03-02T15:29:53.427872",
     "status": "completed"
    },
    "tags": []
   },
   "source": [
    "# Modeling GNNePCSAFT\n"
   ]
  },
  {
   "cell_type": "markdown",
   "id": "eafa8b2d",
   "metadata": {
    "papermill": {
     "duration": 0.002819,
     "end_time": "2025-03-02T15:29:53.437272",
     "exception": false,
     "start_time": "2025-03-02T15:29:53.434453",
     "status": "completed"
    },
    "tags": []
   },
   "source": [
    "### Load env variables\n"
   ]
  },
  {
   "cell_type": "code",
   "execution_count": null,
   "id": "9a2b27df",
   "metadata": {
    "execution": {
     "iopub.execute_input": "2025-03-02T15:29:53.443451Z",
     "iopub.status.busy": "2025-03-02T15:29:53.443124Z",
     "iopub.status.idle": "2025-03-02T15:29:54.081888Z",
     "shell.execute_reply": "2025-03-02T15:29:54.081176Z"
    },
    "papermill": {
     "duration": 0.643387,
     "end_time": "2025-03-02T15:29:54.083430",
     "exception": false,
     "start_time": "2025-03-02T15:29:53.440043",
     "status": "completed"
    },
    "tags": []
   },
   "outputs": [],
   "source": [
    "import os\n",
    "\n",
    "os.environ[\"WANDB_API_KEY\"] = \"\"  # Your wandb api key"
   ]
  },
  {
   "cell_type": "markdown",
   "id": "e98c3514",
   "metadata": {
    "papermill": {
     "duration": 0.002408,
     "end_time": "2025-03-02T15:29:54.088588",
     "exception": false,
     "start_time": "2025-03-02T15:29:54.086180",
     "status": "completed"
    },
    "tags": []
   },
   "source": [
    "### Git clone repo\n"
   ]
  },
  {
   "cell_type": "code",
   "execution_count": null,
   "id": "924e5b94",
   "metadata": {
    "execution": {
     "iopub.execute_input": "2025-03-02T15:29:54.094072Z",
     "iopub.status.busy": "2025-03-02T15:29:54.093810Z",
     "iopub.status.idle": "2025-03-02T15:30:09.991161Z",
     "shell.execute_reply": "2025-03-02T15:30:09.990380Z"
    },
    "papermill": {
     "duration": 15.901408,
     "end_time": "2025-03-02T15:30:09.992363",
     "exception": false,
     "start_time": "2025-03-02T15:29:54.090955",
     "status": "completed"
    },
    "tags": []
   },
   "outputs": [],
   "source": [
    "%%bash\n",
    "\n",
    "# for the cloud \n",
    "ls -a\n",
    "rm -rf .* *\n",
    "git clone --branch dev --single-branch -q https://github.com/wildsonbbl/gnnepcsaft.git ."
   ]
  },
  {
   "cell_type": "markdown",
   "id": "07daa1ed",
   "metadata": {
    "papermill": {
     "duration": 0.002306,
     "end_time": "2025-03-02T15:30:09.997304",
     "exception": false,
     "start_time": "2025-03-02T15:30:09.994998",
     "status": "completed"
    },
    "tags": []
   },
   "source": [
    "### Pip install requirements\n"
   ]
  },
  {
   "cell_type": "code",
   "execution_count": null,
   "id": "267fec48",
   "metadata": {
    "execution": {
     "iopub.execute_input": "2025-03-02T15:30:10.003026Z",
     "iopub.status.busy": "2025-03-02T15:30:10.002803Z",
     "iopub.status.idle": "2025-03-02T15:30:10.010163Z",
     "shell.execute_reply": "2025-03-02T15:30:10.009522Z"
    },
    "papermill": {
     "duration": 0.011693,
     "end_time": "2025-03-02T15:30:10.011543",
     "exception": false,
     "start_time": "2025-03-02T15:30:09.999850",
     "status": "completed"
    },
    "tags": []
   },
   "outputs": [],
   "source": [
    "%%bash\n",
    "\n",
    "## uv pip install -r requirements-torch.txt # if torch not installed\n",
    "\n",
    "uv pip install -r requirements.txt\n",
    "\n",
    "echo \"*********  Finished pip installing requirements.txt  *********\"\n",
    "\n"
   ]
  },
  {
   "cell_type": "markdown",
   "id": "6498d0a7",
   "metadata": {
    "papermill": {
     "duration": 0.002474,
     "end_time": "2025-03-02T15:30:23.519893",
     "exception": false,
     "start_time": "2025-03-02T15:30:23.517419",
     "status": "completed"
    },
    "tags": []
   },
   "source": [
    "### Check feos pkg, cpu and gpu\n"
   ]
  },
  {
   "cell_type": "code",
   "execution_count": null,
   "id": "6148c0b6",
   "metadata": {
    "execution": {
     "iopub.execute_input": "2025-03-02T15:30:23.526071Z",
     "iopub.status.busy": "2025-03-02T15:30:23.525835Z",
     "iopub.status.idle": "2025-03-02T15:30:26.396267Z",
     "shell.execute_reply": "2025-03-02T15:30:26.395467Z"
    },
    "papermill": {
     "duration": 2.874887,
     "end_time": "2025-03-02T15:30:26.397621",
     "exception": false,
     "start_time": "2025-03-02T15:30:23.522734",
     "status": "completed"
    },
    "tags": []
   },
   "outputs": [],
   "source": [
    "%%bash\n",
    "\n",
    "python --version\n",
    "\n",
    "pip show feos | grep -E \"Version|Name\"\n",
    "\n",
    "pip show torch | grep -E \"Version|Name\"\n",
    "\n",
    "lscpu | grep -E \"Model name|Core|core\" \n",
    "\n",
    "nvidia-smi"
   ]
  },
  {
   "cell_type": "markdown",
   "id": "49c81ba2",
   "metadata": {
    "papermill": {
     "duration": 0.002548,
     "end_time": "2025-03-02T15:30:26.404983",
     "exception": false,
     "start_time": "2025-03-02T15:30:26.402435",
     "status": "completed"
    },
    "tags": []
   },
   "source": [
    "### Training run\n"
   ]
  },
  {
   "cell_type": "code",
   "execution_count": null,
   "id": "45c5a874",
   "metadata": {
    "execution": {
     "iopub.execute_input": "2025-03-02T15:30:26.421077Z",
     "iopub.status.busy": "2025-03-02T15:30:26.420834Z",
     "iopub.status.idle": "2025-03-02T18:10:24.000115Z",
     "shell.execute_reply": "2025-03-02T18:10:23.999091Z"
    },
    "papermill": {
     "duration": 9597.584164,
     "end_time": "2025-03-02T18:10:24.001816",
     "exception": false,
     "start_time": "2025-03-02T15:30:26.417652",
     "status": "completed"
    },
    "tags": []
   },
   "outputs": [],
   "source": [
    "!python -m gnnepcsaft.train.train \\\n",
    "--workdir=$PWD/gnnepcsaft --config=$PWD/gnnepcsaft/configs/default.py \\\n",
    "--framework=\"lightning\"  \\\n",
    "--num_cpu=1.0 --num_gpus=0.333 --num_workers=3 \\\n",
    "--config.accelerator=auto\n"
   ]
  },
  {
   "cell_type": "code",
   "execution_count": null,
   "id": "52c4aee6",
   "metadata": {
    "execution": {
     "iopub.execute_input": "2025-03-02T18:10:24.015452Z",
     "iopub.status.busy": "2025-03-02T18:10:24.015160Z",
     "iopub.status.idle": "2025-03-02T18:10:24.023653Z",
     "shell.execute_reply": "2025-03-02T18:10:24.022924Z"
    },
    "papermill": {
     "duration": 0.016626,
     "end_time": "2025-03-02T18:10:24.024970",
     "exception": false,
     "start_time": "2025-03-02T18:10:24.008344",
     "status": "completed"
    },
    "tags": []
   },
   "outputs": [],
   "source": [
    "%%bash\n",
    "\n",
    "echo \"*****  Finished training  *****\""
   ]
  }
 ],
 "metadata": {
  "kaggle": {
   "accelerator": "gpu",
   "dataSources": [
    {
     "datasetId": 3440228,
     "sourceId": 10765272,
     "sourceType": "datasetVersion"
    },
    {
     "sourceId": 221526875,
     "sourceType": "kernelVersion"
    }
   ],
   "isGpuEnabled": true,
   "isInternetEnabled": true,
   "language": "python",
   "sourceType": "notebook"
  },
  "kernelspec": {
   "display_name": ".venv",
   "language": "python",
   "name": "python3"
  },
  "language_info": {
   "codemirror_mode": {
    "name": "ipython",
    "version": 3
   },
   "file_extension": ".py",
   "mimetype": "text/x-python",
   "name": "python",
   "nbconvert_exporter": "python",
   "pygments_lexer": "ipython3",
   "version": "3.10.16"
  },
  "papermill": {
   "default_parameters": {},
   "duration": 9633.476737,
   "end_time": "2025-03-02T18:10:24.458451",
   "environment_variables": {},
   "exception": null,
   "input_path": "__notebook__.ipynb",
   "output_path": "__notebook__.ipynb",
   "parameters": {},
   "start_time": "2025-03-02T15:29:50.981714",
   "version": "2.5.0"
  }
 },
 "nbformat": 4,
 "nbformat_minor": 5
}
