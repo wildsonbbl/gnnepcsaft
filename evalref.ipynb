{
 "cells": [
  {
   "cell_type": "markdown",
   "metadata": {},
   "source": [
    "### Evaluating reference data and model predictions\n"
   ]
  },
  {
   "cell_type": "markdown",
   "metadata": {},
   "source": [
    "## Loading packages\n"
   ]
  },
  {
   "cell_type": "code",
   "execution_count": null,
   "metadata": {},
   "outputs": [],
   "source": [
    "import numpy as np\n",
    "import os.path as osp\n",
    "from gnnepcsaft.data.graphdataset import ThermoMLDataset, Ramirez, Esper\n",
    "from gnnepcsaft.train.utils import rho_single, vp_single\n",
    "from gnnepcsaft.epcsaft.utils import parameters_gc_pcsaft\n",
    "from gnnepcsaft.demo.utils import _get_model_params, binary_test, es_para\n",
    "from gnnepcsaft.data.rdkit_util import assoc_number, smilestoinchi\n",
    "import polars as pl\n",
    "import torch\n",
    "from gnnepcsaft.train.models import GNNePCSAFTL, HabitchNNL\n",
    "import joblib\n",
    "import xgboost as xgb"
   ]
  },
  {
   "cell_type": "code",
   "execution_count": null,
   "metadata": {
    "trusted": true
   },
   "outputs": [],
   "source": [
    "path = osp.join(\"gnnepcsaft/data\", \"thermoml\")\n",
    "test_loader = ThermoMLDataset(path)\n",
    "\n",
    "pna_msigmae = GNNePCSAFTL.load_from_checkpoint(\n",
    "    \"./gnnepcsaft/train/checkpoints/model-hlrn7lqv.ckpt\",\n",
    "    \"cpu\",\n",
    ").eval()\n",
    "pna_assoc = GNNePCSAFTL.load_from_checkpoint(\n",
    "    \"./gnnepcsaft/train/checkpoints/assoc_model-j7isfrga.ckpt\",\n",
    "    \"cpu\",\n",
    ").eval()\n",
    "habitch_msigmae = HabitchNNL.load_from_checkpoint(\n",
    "    \"./gnnepcsaft/train/checkpoints/model-u62sbl40.ckpt\", \"cpu\"\n",
    ").eval()\n",
    "\n",
    "\n",
    "rf_msigmae = joblib.load(\"./gnnepcsaft/train/checkpoints/rf_model.joblib\")\n",
    "xgb_msigmae = xgb.Booster()\n",
    "xgb_msigmae.load_model(\"./gnnepcsaft/train/checkpoints/xgb_model.json\")"
   ]
  },
  {
   "cell_type": "code",
   "execution_count": null,
   "metadata": {},
   "outputs": [],
   "source": [
    "def test(para_data):\n",
    "    data = {\"inchis\": [], \"mden\": [], \"mvp\": []}\n",
    "    for gh in test_loader:\n",
    "        if gh.InChI not in para_data:\n",
    "            continue\n",
    "        params = para_data[gh.InChI]\n",
    "        rho = gh.rho[:, -1]\n",
    "        vp = gh.vp[:, -1]\n",
    "        if rho.shape[0] > 0:\n",
    "            pred_den = rho_single((params, gh.rho))\n",
    "            mape_den = np.mean(np.abs((pred_den - rho) / rho))\n",
    "        else:\n",
    "            mape_den = np.nan\n",
    "        if vp.shape[0] > 0:\n",
    "            pred_vp = vp_single((params, gh.vp))\n",
    "            mape_vp = np.mean(np.abs(np.log10(pred_vp + 1e-6) - np.log10(vp)))\n",
    "        else:\n",
    "            mape_vp = np.nan\n",
    "        data[\"inchis\"].append(gh.InChI)\n",
    "        data[\"mden\"].append(mape_den)\n",
    "        data[\"mvp\"].append(mape_vp)\n",
    "    return data"
   ]
  },
  {
   "cell_type": "markdown",
   "metadata": {},
   "source": [
    "## Evaluating references\n"
   ]
  },
  {
   "cell_type": "code",
   "execution_count": null,
   "metadata": {},
   "outputs": [],
   "source": [
    "train_loader = Esper(\"gnnepcsaft/data/esper2023\")\n",
    "para_data = {}\n",
    "for graph in train_loader:\n",
    "    para_data[graph.InChI] = (\n",
    "        torch.hstack(\n",
    "            [graph.para, 10 ** (graph.assoc * torch.tensor([-1.0, 1.0])), graph.munanb]\n",
    "        )\n",
    "        .squeeze()\n",
    "        .tolist()\n",
    "    )\n",
    "test_data = test(para_data)\n",
    "test_data = pl.DataFrame(test_data)\n",
    "test_data.write_csv(\"../refesper.csv\")"
   ]
  },
  {
   "cell_type": "code",
   "execution_count": null,
   "metadata": {},
   "outputs": [],
   "source": [
    "winter = pl.read_csv(\"../d4dd00077c1.csv\", skip_rows=1)\n",
    "para_data = {}\n",
    "for row in winter.iter_rows(named=True):\n",
    "    inchi = smilestoinchi(row[\"SMILES0\"])\n",
    "    nanb = assoc_number(inchi)\n",
    "    para_data[inchi] = [row[\"m\"], row[\"sigma\"], row[\"epsilon_k\"], row[\"kappa_ab\"], row[\"epsilon_k_ab\"], row[\"mu\"], *nanb]\n",
    "test_data = test(para_data)\n",
    "test_data = pl.DataFrame(test_data)\n",
    "test_data.write_csv(\"../ref_winter.csv\")"
   ]
  },
  {
   "cell_type": "code",
   "execution_count": null,
   "metadata": {},
   "outputs": [],
   "source": [
    "para_data = {}\n",
    "for graph in test_loader:\n",
    "    try:\n",
    "        para_data[graph.InChI] = list(parameters_gc_pcsaft(graph.smiles))\n",
    "    except BaseException as e:\n",
    "        pass\n",
    "test_data = test(para_data)\n",
    "test_data = pl.DataFrame(test_data)\n",
    "test_data.write_csv(\"../refgc_pcsaft.csv\")"
   ]
  },
  {
   "cell_type": "markdown",
   "metadata": {},
   "source": [
    "## Evaluating models\n"
   ]
  },
  {
   "cell_type": "code",
   "execution_count": null,
   "metadata": {},
   "outputs": [],
   "source": [
    "para_data = {}\n",
    "for graph in test_loader:\n",
    "    params = _get_model_params(pna_assoc.model, pna_msigmae.model, graph).tolist()  # type: ignore\n",
    "    para_data[graph.InChI] = params\n",
    "test_data = test(para_data)\n",
    "test_data = pl.DataFrame(test_data)\n",
    "test_data.write_csv(\"../model_pna.csv\")"
   ]
  },
  {
   "cell_type": "code",
   "execution_count": null,
   "metadata": {},
   "outputs": [],
   "source": [
    "para_data = {}\n",
    "for graph in test_loader:\n",
    "    params = _get_model_params(pna_assoc.model, habitch_msigmae.model, graph).tolist()  # type: ignore\n",
    "    para_data[graph.InChI] = params\n",
    "test_data = test(para_data)\n",
    "test_data = pl.DataFrame(test_data)\n",
    "test_data.write_csv(\"../model_habitch.csv\")"
   ]
  },
  {
   "cell_type": "code",
   "execution_count": null,
   "metadata": {},
   "outputs": [],
   "source": [
    "para_data = {}\n",
    "for graph in test_loader:\n",
    "    params = _get_model_params(pna_assoc.model, rf_msigmae, graph).tolist()  # type: ignore\n",
    "    para_data[graph.InChI] = params\n",
    "test_data = test(para_data)\n",
    "test_data = pl.DataFrame(test_data)\n",
    "test_data.write_csv(\"../model_rf.csv\")"
   ]
  },
  {
   "cell_type": "code",
   "execution_count": null,
   "metadata": {},
   "outputs": [],
   "source": [
    "binary_data = binary_test(pna_assoc.model, pna_msigmae.model)\n",
    "\n",
    "data = {\n",
    "    \"inchis1\": [],\n",
    "    \"inchis2\": [],\n",
    "    \"mden\": [],\n",
    "    \"inchi1_in_train\": [],\n",
    "    \"inchi2_in_train\": [],\n",
    "    \"(non-self) association\": [],\n",
    "    \"self-association\": [],\n",
    "    \"no-association\": [],\n",
    "}\n",
    "\n",
    "for inchis, rho_data in binary_data:\n",
    "    rho = np.asarray(rho_data)\n",
    "    ref_rho = rho[:, 1]\n",
    "    pred_rho = rho[:, 0]\n",
    "    mape_den = np.mean(np.abs(pred_rho - ref_rho) / ref_rho)\n",
    "    inchi1_nanb = assoc_number(inchis[0])\n",
    "    inchi2_nanb = assoc_number(inchis[1])\n",
    "    data[\"inchis1\"].append(inchis[0])\n",
    "    data[\"inchis2\"].append(inchis[1])\n",
    "    data[\"mden\"].append(mape_den)\n",
    "    data[\"inchi1_in_train\"].append(inchis[0] in es_para)\n",
    "    data[\"inchi2_in_train\"].append(inchis[1] in es_para)\n",
    "    data[\"(non-self) association\"].append(\n",
    "        ((inchi1_nanb[0] == 0 and inchi1_nanb[1] > 0) and (inchi2_nanb[0] > 0))\n",
    "        or ((inchi1_nanb[0] > 0 and inchi1_nanb[1] == 0) and (inchi2_nanb[1] > 0))\n",
    "    )\n",
    "    data[\"self-association\"].append(\n",
    "        (\n",
    "            (inchi1_nanb[0] > 0 and inchi1_nanb[1] > 0)\n",
    "            or (inchi2_nanb[0] > 0 and inchi2_nanb[1] > 0)\n",
    "        )\n",
    "    )\n",
    "    data[\"no-association\"].append(\n",
    "        (\n",
    "            (inchi1_nanb[0] == 0 and inchi1_nanb[1] == 0)\n",
    "            and (inchi2_nanb[0] == 0 and inchi2_nanb[1] == 0)\n",
    "        )\n",
    "    )\n",
    "\n",
    "data = pl.DataFrame(data)\n",
    "data.write_csv(\"../binary_test.csv\")"
   ]
  },
  {
   "cell_type": "code",
   "execution_count": null,
   "metadata": {},
   "outputs": [],
   "source": []
  }
 ],
 "metadata": {
  "kernelspec": {
   "display_name": "gnnepcsaftproject (3.10.16)",
   "language": "python",
   "name": "python3"
  },
  "language_info": {
   "codemirror_mode": {
    "name": "ipython",
    "version": 3
   },
   "file_extension": ".py",
   "mimetype": "text/x-python",
   "name": "python",
   "nbconvert_exporter": "python",
   "pygments_lexer": "ipython3",
   "version": "3.10.16"
  }
 },
 "nbformat": 4,
 "nbformat_minor": 4
}
