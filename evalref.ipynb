{
 "cells": [
  {
   "cell_type": "markdown",
   "metadata": {},
   "source": [
    "Evaluating reference data"
   ]
  },
  {
   "cell_type": "markdown",
   "metadata": {},
   "source": [
    "## Loading packages"
   ]
  },
  {
   "cell_type": "code",
   "execution_count": null,
   "metadata": {},
   "outputs": [],
   "source": [
    "import os.path as osp, os\n",
    "os.environ[\"CUDA_VISIBLE_DEVICES\"] = ''\n",
    "import torch\n",
    "from torchmetrics import MeanAbsolutePercentageError\n",
    "from torch.nn import HuberLoss\n",
    "from torch_geometric.loader import DataLoader\n",
    "import os.path as osp, pickle\n",
    "from gnnepcsaft.data.graphdataset import ThermoMLDataset, Ramirez, Esper\n",
    "from gnnepcsaft.train.utils import  mape\n",
    "from gnnepcsaft.epcsaft import utils\n",
    "import polars as pl\n",
    "torch.cuda.is_available()"
   ]
  },
  {
   "cell_type": "code",
   "execution_count": null,
   "metadata": {
    "trusted": true
   },
   "outputs": [],
   "source": [
    "device = torch.device(\"cpu\")"
   ]
  },
  {
   "cell_type": "code",
   "execution_count": null,
   "metadata": {
    "trusted": true
   },
   "outputs": [],
   "source": [
    "pcsaft_den = utils.DenFromTensor.apply\n",
    "pcsaft_vp = utils.VpFromTensor.apply\n",
    "\n",
    "path = osp.join(\"gnnepcsaft/data\", \"thermoml\")\n",
    "test_loader = ThermoMLDataset(path)"
   ]
  },
  {
   "cell_type": "code",
   "execution_count": null,
   "metadata": {},
   "outputs": [],
   "source": [
    "def test(para_data):\n",
    "    data = {\"inchis\":[],\"mden\":[],\"mvp\":[]} \n",
    "    for gh in test_loader:\n",
    "        if gh.InChI not in para_data:\n",
    "            continue\n",
    "        parameters = torch.as_tensor(para_data[gh.InChI][0])\n",
    "        params = parameters.squeeze().to(torch.float64).numpy()\n",
    "        rho = gh.rho.view(-1, 5).to(torch.float64).numpy()\n",
    "        vp = gh.vp.view(-1, 5).to(torch.float64).numpy()\n",
    "        mden, mvp = mape(params, rho, vp)\n",
    "        data[\"inchis\"].append(gh.InChI)\n",
    "        data[\"mden\"].append(mden)\n",
    "        data[\"mvp\"].append(mvp)\n",
    "    return data"
   ]
  },
  {
   "cell_type": "markdown",
   "metadata": {},
   "source": [
    "## Evaluating"
   ]
  },
  {
   "cell_type": "code",
   "execution_count": null,
   "metadata": {},
   "outputs": [],
   "source": [
    "train_loader = Ramirez('gnnepcsaft/data/ramirez2022')\n",
    "para_data = {}\n",
    "for graph in train_loader:\n",
    "    para_data[graph.InChI] = [graph.para]\n",
    "rapara = test(para_data)\n",
    "rapara = pl.DataFrame(rapara)\n",
    "rapara.write_csv('../reframirez.csv')"
   ]
  },
  {
   "cell_type": "code",
   "execution_count": null,
   "metadata": {},
   "outputs": [],
   "source": [
    "train_loader = Esper(\"gnnepcsaft/data/esper2023\")\n",
    "para_data = {}\n",
    "for graph in train_loader:\n",
    "    para_data[graph.InChI] = [\n",
    "        torch.hstack(\n",
    "            [graph.para, 10 ** (graph.assoc * torch.tensor([-1.0, 1.0])), graph.munanb]\n",
    "        )\n",
    "    ]\n",
    "rapara = test(para_data)\n",
    "rapara = pl.DataFrame(rapara)\n",
    "rapara.write_csv(\"../refesper.csv\")"
   ]
  },
  {
   "cell_type": "code",
   "execution_count": null,
   "metadata": {},
   "outputs": [],
   "source": [
    "para_data = {}\n",
    "for graph in test_loader:\n",
    "  try:\n",
    "    para_data[graph.InChI] = [utils.parameters_gc_pcsaft(graph.smiles)]\n",
    "  except BaseException as e:\n",
    "    pass\n",
    "rapara = test(para_data)\n",
    "rapara = pl.DataFrame(rapara)\n",
    "rapara.write_csv(\"../refgc_pcsaft.csv\")"
   ]
  }
 ],
 "metadata": {
  "kernelspec": {
   "display_name": "Python 3",
   "language": "python",
   "name": "python3"
  },
  "language_info": {
   "codemirror_mode": {
    "name": "ipython",
    "version": 3
   },
   "file_extension": ".py",
   "mimetype": "text/x-python",
   "name": "python",
   "nbconvert_exporter": "python",
   "pygments_lexer": "ipython3",
   "version": "3.9.18"
  }
 },
 "nbformat": 4,
 "nbformat_minor": 4
}
