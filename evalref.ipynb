{
 "cells": [
  {
   "cell_type": "markdown",
   "metadata": {},
   "source": [
    "Evaluating reference data\n"
   ]
  },
  {
   "cell_type": "markdown",
   "metadata": {},
   "source": [
    "## Loading packages\n"
   ]
  },
  {
   "cell_type": "code",
   "execution_count": null,
   "metadata": {},
   "outputs": [],
   "source": [
    "import numpy as np\n",
    "import os.path as osp\n",
    "from gnnepcsaft.data.graphdataset import ThermoMLDataset, Ramirez, Esper\n",
    "from gnnepcsaft.train.utils import rho_single, vp_single\n",
    "from gnnepcsaft.epcsaft.utils import parameters_gc_pcsaft\n",
    "from gnnepcsaft.demo.utils import  params_fn, binary_test, es_para\n",
    "import polars as pl\n",
    "import torch\n",
    "from gnnepcsaft.train.models import GNNePCSAFTL"
   ]
  },
  {
   "cell_type": "code",
   "execution_count": null,
   "metadata": {
    "trusted": true
   },
   "outputs": [],
   "source": [
    "path = osp.join(\"gnnepcsaft/data\", \"thermoml\")\n",
    "test_loader = ThermoMLDataset(path)\n",
    "model = GNNePCSAFTL.load_from_checkpoint(\n",
    "    \"./gnnepcsaft/train/checkpoints/pna_msigmae_1.0-epoch=21249-mape_den.ckpt\",\n",
    "    \"cpu\",\n",
    ").eval()\n",
    "model_assoc = GNNePCSAFTL.load_from_checkpoint(\n",
    "    \"./gnnepcsaft/train/checkpoints/pna_assoc_1.0-epoch=6249-train_mape=0.0260.ckpt\",\n",
    "    \"cpu\",\n",
    ").eval()"
   ]
  },
  {
   "cell_type": "code",
   "execution_count": null,
   "metadata": {},
   "outputs": [],
   "source": [
    "def test(para_data):\n",
    "    data = {\"inchis\": [], \"mden\": [], \"mvp\": []}\n",
    "    for gh in test_loader:\n",
    "        if gh.InChI not in para_data:\n",
    "            continue\n",
    "        params = para_data[gh.InChI]\n",
    "        rho = gh.rho[:, -1]\n",
    "        vp = gh.vp[:, -1]\n",
    "        if rho.shape[0] > 0:\n",
    "            pred_den = rho_single((params, gh.rho))\n",
    "            mape_den = np.mean(np.abs((pred_den - rho) / rho))\n",
    "        else:\n",
    "            mape_den = np.nan\n",
    "        if vp.shape[0] > 0:\n",
    "            pred_vp = vp_single((params, gh.vp))\n",
    "            mape_vp = np.mean(np.abs((pred_vp - vp) / vp))\n",
    "        else:\n",
    "            mape_vp = np.nan\n",
    "        data[\"inchis\"].append(gh.InChI)\n",
    "        data[\"mden\"].append(mape_den)\n",
    "        data[\"mvp\"].append(mape_vp)\n",
    "    return data"
   ]
  },
  {
   "cell_type": "markdown",
   "metadata": {},
   "source": [
    "## Evaluating\n"
   ]
  },
  {
   "cell_type": "code",
   "execution_count": null,
   "metadata": {},
   "outputs": [],
   "source": [
    "train_loader = Ramirez(\"gnnepcsaft/data/ramirez2022\")\n",
    "para_data = {}\n",
    "for graph in train_loader:\n",
    "    para_data[graph.InChI] = graph.para.tolist() + [0] * 5\n",
    "test_data = test(para_data)\n",
    "test_data = pl.DataFrame(test_data)\n",
    "test_data.write_csv(\"../reframirez.csv\")"
   ]
  },
  {
   "cell_type": "code",
   "execution_count": null,
   "metadata": {},
   "outputs": [],
   "source": [
    "train_loader = Esper(\"gnnepcsaft/data/esper2023\")\n",
    "para_data = {}\n",
    "for graph in train_loader:\n",
    "    para_data[graph.InChI] = (\n",
    "        torch.hstack(\n",
    "            [graph.para, 10 ** (graph.assoc * torch.tensor([-1.0, 1.0])), graph.munanb]\n",
    "        )\n",
    "        .squeeze()\n",
    "        .tolist()\n",
    "    )\n",
    "test_data = test(para_data)\n",
    "test_data = pl.DataFrame(test_data)\n",
    "test_data.write_csv(\"../refesper.csv\")"
   ]
  },
  {
   "cell_type": "code",
   "execution_count": null,
   "metadata": {},
   "outputs": [],
   "source": [
    "para_data = {}\n",
    "for graph in test_loader:\n",
    "    try:\n",
    "        para_data[graph.InChI] = list(parameters_gc_pcsaft(graph.smiles))\n",
    "    except BaseException as e:\n",
    "        pass\n",
    "test_data = test(para_data)\n",
    "test_data = pl.DataFrame(test_data)\n",
    "test_data.write_csv(\"../refgc_pcsaft.csv\")"
   ]
  },
  {
   "cell_type": "code",
   "execution_count": null,
   "metadata": {},
   "outputs": [],
   "source": [
    "para_data = {}\n",
    "train_loader = Esper(\"gnnepcsaft/data/esper2023\")\n",
    "munanb_ref = {}\n",
    "for gh in train_loader:\n",
    "    munanb_ref[gh.InChI] = gh.munanb.tolist()[0]\n",
    "for graph in test_loader:\n",
    "    params = params_fn(model.model, graph, model_assoc.model).tolist()\n",
    "    para_data[graph.InChI] = params\n",
    "test_data = test(para_data)\n",
    "test_data = pl.DataFrame(test_data)\n",
    "test_data.write_csv(\"../model1.csv\")"
   ]
  },
  {
   "cell_type": "code",
   "execution_count": null,
   "metadata": {},
   "outputs": [],
   "source": [
    "\n",
    "binary_data = binary_test(model.model, model_assoc.model)\n",
    "\n",
    "data = {\n",
    "    \"inchis1\": [],\n",
    "    \"inchis2\": [],\n",
    "    \"mden\": [],\n",
    "    \"inchi1_in_train\": [],\n",
    "    \"inchi2_in_train\": [],\n",
    "}\n",
    "\n",
    "for inchis, rho_data in binary_data:\n",
    "    rho = np.asarray(rho_data)\n",
    "    ref_rho = rho[:, 1]\n",
    "    pred_rho = rho[:, 0]\n",
    "    mape_den = np.mean(np.abs(pred_rho - ref_rho) / ref_rho)\n",
    "    data[\"inchis1\"].append(inchis[0])\n",
    "    data[\"inchis2\"].append(inchis[1])\n",
    "    data[\"mden\"].append(mape_den)\n",
    "    data[\"inchi1_in_train\"].append(inchis[0] in es_para)\n",
    "    data[\"inchi2_in_train\"].append(inchis[1] in es_para)\n",
    "\n",
    "data = pl.DataFrame(data)\n",
    "data.write_csv(\"../binary_test.csv\")\n"
   ]
  }
 ],
 "metadata": {
  "kernelspec": {
   "display_name": ".venv",
   "language": "python",
   "name": "python3"
  },
  "language_info": {
   "codemirror_mode": {
    "name": "ipython",
    "version": 3
   },
   "file_extension": ".py",
   "mimetype": "text/x-python",
   "name": "python",
   "nbconvert_exporter": "python",
   "pygments_lexer": "ipython3",
   "version": "3.10.16"
  }
 },
 "nbformat": 4,
 "nbformat_minor": 4
}
