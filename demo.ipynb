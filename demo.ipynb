{
 "cells": [
  {
   "cell_type": "markdown",
   "id": "66b77600",
   "metadata": {},
   "source": [
    "### 1 - Carregar os pactotes e configurações do ambiente python\n"
   ]
  },
  {
   "cell_type": "code",
   "execution_count": null,
   "id": "f71ff522-3521-4d89-b90e-042aa95fcc2f",
   "metadata": {
    "tags": []
   },
   "outputs": [],
   "source": [
    "import os.path as osp\n",
    "import torch\n",
    "from gnnepcsaft.data.graphdataset import ThermoMLDataset, Esper\n",
    "from gnnepcsaft.train.models import GNNePCSAFTL\n",
    "from gnnepcsaft.data.graph import from_InChI\n",
    "from gnnepcsaft.configs.default import get_config\n",
    "from gnnepcsaft.demo.utils import plotdata\n",
    "import networkx as nx\n",
    "from torch_geometric.utils import to_networkx\n",
    "from torch_geometric.nn import summary\n",
    "\n",
    "config = get_config()\n",
    "device = \"cpu\"\n",
    "model_dtype = torch.float64\n",
    "\n",
    "print(torch.cuda.is_available())"
   ]
  },
  {
   "cell_type": "markdown",
   "id": "a21e3997",
   "metadata": {},
   "source": [
    "### 2 - Carregar os dados de parametrização e dados experimentais de densidade e pressão de vapor\n"
   ]
  },
  {
   "cell_type": "markdown",
   "id": "b1b80296",
   "metadata": {},
   "source": [
    "- Dados de parametrização\n"
   ]
  },
  {
   "cell_type": "code",
   "execution_count": null,
   "id": "d2ef1aa5",
   "metadata": {},
   "outputs": [],
   "source": [
    "es = Esper(\"gnnepcsaft/data/esper2023\")\n",
    "es_para = {}\n",
    "for graph in es:\n",
    "    inchi, para = graph.InChI, graph.para\n",
    "    es_para[inchi] = para"
   ]
  },
  {
   "cell_type": "markdown",
   "id": "d5bbc974",
   "metadata": {},
   "source": [
    "- Dados de pressão de vapor e densidade\n"
   ]
  },
  {
   "cell_type": "code",
   "execution_count": null,
   "id": "d77810b2-ca9c-4212-8b4d-5ff00bee47ab",
   "metadata": {},
   "outputs": [],
   "source": [
    "path = osp.join(\"gnnepcsaft/data\", \"thermoml\")\n",
    "tml = ThermoMLDataset(path)"
   ]
  },
  {
   "cell_type": "markdown",
   "id": "fdf52a98",
   "metadata": {},
   "source": [
    "### 3 - Criar e inicializar a Graph Neural Network\n"
   ]
  },
  {
   "cell_type": "code",
   "execution_count": null,
   "id": "776600d7",
   "metadata": {},
   "outputs": [],
   "source": [
    "model2 = GNNePCSAFTL.load_from_checkpoint(\n",
    "    \"gnnepcsaft/train/checkpoints/pna_msigmae_1.0-epoch=19999-mape_den.ckpt\", \"cpu\"\n",
    ").eval()\n",
    "\n",
    "\n",
    "model1 = GNNePCSAFTL.load_from_checkpoint(\n",
    "    \"gnnepcsaft/train/checkpoints/pna_msigmae_1.0-epoch=21249-mape_den.ckpt\", \"cpu\"\n",
    ").eval()"
   ]
  },
  {
   "cell_type": "markdown",
   "id": "4a777046",
   "metadata": {},
   "source": [
    "- Resumo dos parâmetros do modelo\n"
   ]
  },
  {
   "cell_type": "code",
   "execution_count": null,
   "id": "916fd0cc",
   "metadata": {},
   "outputs": [],
   "source": [
    "dummy = tml[0].x, tml[0].edge_index, tml[0].edge_attr, tml[0].batch  # type: ignore\n",
    "print(summary(model2, *dummy, max_depth=3))"
   ]
  },
  {
   "cell_type": "markdown",
   "id": "43d981e6",
   "metadata": {},
   "source": [
    "### 4 - Fazer a predição dos parâmetros a partir dos grafos\n"
   ]
  },
  {
   "cell_type": "markdown",
   "id": "98192354",
   "metadata": {},
   "source": [
    "- InChI da molécula\n"
   ]
  },
  {
   "cell_type": "code",
   "execution_count": null,
   "id": "38e07139",
   "metadata": {},
   "outputs": [],
   "source": [
    "inchi = \"InChI=1S/C5H6O2/c6-4-5-2-1-3-7-5/h1-3,6H,4H2\"\n",
    "# inchi = \"InChI=1S/H2O/h1H2\""
   ]
  },
  {
   "cell_type": "markdown",
   "id": "b43a64cb",
   "metadata": {},
   "source": [
    "- Grafo da molécula\n"
   ]
  },
  {
   "cell_type": "code",
   "execution_count": null,
   "id": "c05213b2",
   "metadata": {},
   "outputs": [],
   "source": [
    "grafo = from_InChI(inchi).to(device)\n",
    "print(\"###### Nós (átomos) do grafo e seus atributos ###### \\n\")\n",
    "print(grafo.x)\n",
    "print(\"\\n###### Arestas (ligações químicas) da molécula e seus atributos ######\\n\")\n",
    "print(grafo.edge_attr)\n",
    "print(\"\\n###### Figura do grafo ######\\n\")\n",
    "nxg = to_networkx(grafo)\n",
    "nx.draw(nxg)"
   ]
  },
  {
   "cell_type": "markdown",
   "id": "98f704c9",
   "metadata": {},
   "source": [
    "- Parâmetros previstos pelos Modelo 1 e 2\n"
   ]
  },
  {
   "cell_type": "code",
   "execution_count": null,
   "id": "ad2a5506",
   "metadata": {},
   "outputs": [],
   "source": [
    "with torch.no_grad():\n",
    "    input = grafo.x, grafo.edge_index, grafo.edge_attr, grafo.batch\n",
    "\n",
    "    parametros_modelo_1 = model1(*input)\n",
    "\n",
    "    parametros_modelo_2 = model2(*input)\n",
    "\n",
    "\n",
    "print(\"######### Parâmetros previstos #########\\n\")\n",
    "\n",
    "\n",
    "print(\"Pelo Modelo 1:\\n\")\n",
    "\n",
    "\n",
    "print(\"[número de segmentos, diâmetros de segmento (Å), energia de dispersão (K)]\")\n",
    "\n",
    "\n",
    "print(parametros_modelo_1[0].numpy().round(5))\n",
    "\n",
    "\n",
    "print(\"\\nPelo Modelo 2:\\n\")\n",
    "\n",
    "\n",
    "print(\"[número de segmentos, diâmetros de segmento (Å), energia de dispersão (K)]\")\n",
    "\n",
    "\n",
    "print(parametros_modelo_2[0].numpy().round(5))"
   ]
  },
  {
   "cell_type": "markdown",
   "id": "0c4bbacc",
   "metadata": {},
   "source": [
    "- Figuras demonstrando o desempenho dos parâmetros\n"
   ]
  },
  {
   "cell_type": "code",
   "execution_count": null,
   "id": "468e44c5",
   "metadata": {},
   "outputs": [],
   "source": [
    "molecule_name = \"furfuranol\"\n",
    "print(f\"######### {molecule_name} #########\")\n",
    "plotdata(inchi, molecule_name, models=[model1.model, model2.model], model_msigmae=None)"
   ]
  },
  {
   "cell_type": "code",
   "execution_count": null,
   "id": "917645a2",
   "metadata": {},
   "outputs": [],
   "source": []
  }
 ],
 "metadata": {
  "kernelspec": {
   "display_name": ".venv",
   "language": "python",
   "name": "python3"
  },
  "language_info": {
   "codemirror_mode": {
    "name": "ipython",
    "version": 3
   },
   "file_extension": ".py",
   "mimetype": "text/x-python",
   "name": "python",
   "nbconvert_exporter": "python",
   "pygments_lexer": "ipython3",
   "version": "3.10.16"
  }
 },
 "nbformat": 4,
 "nbformat_minor": 5
}
